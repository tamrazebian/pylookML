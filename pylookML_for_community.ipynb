{
  "nbformat": 4,
  "nbformat_minor": 0,
  "metadata": {
    "colab": {
      "provenance": [],
      "include_colab_link": true
    },
    "kernelspec": {
      "name": "python3",
      "display_name": "Python 3"
    },
    "language_info": {
      "name": "python"
    }
  },
  "cells": [
    {
      "cell_type": "markdown",
      "metadata": {
        "id": "view-in-github",
        "colab_type": "text"
      },
      "source": [
        "<a href=\"https://colab.research.google.com/github/tamrazebian/pylookml/blob/main/pylookML_for_community.ipynb\" target=\"_parent\"><img src=\"https://colab.research.google.com/assets/colab-badge.svg\" alt=\"Open In Colab\"/></a>"
      ]
    },
    {
      "cell_type": "code",
      "source": [
        "# Authenticate into your Looker environment with your Looker instance URL and API Client ID and Secret\n",
        "base_url = ''\n",
        "client_id=''\n",
        "client_secret=''\n",
        "\n",
        "contents = \"\"\"\n",
        "[Looker]\n",
        "# Base URL for API. Do not include /api/* in the url\n",
        "base_url = {}\n",
        "# API 3 client id\n",
        "client_id = {}\n",
        "# API 3 client secret\n",
        "client_secret = {}\n",
        "# Set to false if testing locally against self-signed certs. Otherwise leave True\n",
        "\"\"\".format(base_url,client_id,client_secret)\n",
        "\n",
        "with open (\"api.ini\", \"w\") as f:\n",
        "  f.write(contents)"
      ],
      "metadata": {
        "id": "HO7mdisWoqbr"
      },
      "execution_count": null,
      "outputs": []
    },
    {
      "cell_type": "code",
      "source": [
        "# You might need to manually download these 2 python library files and drag them into colab: https://pypi.org/project/lookml/2.0.0/#files\n",
        "!python3 -m pip install ./lookml-2.0.0.tar.gz\n",
        "!python3 -m pip install ./lookml-2.0.0-py3-none-any.whl\n",
        "!pip install lookml"
      ],
      "metadata": {
        "colab": {
          "base_uri": "https://localhost:8080/"
        },
        "id": "t0dZjkrqP2Ab",
        "outputId": "2c23db6f-b5db-4060-b5ff-cf791a1a0806",
        "collapsed": true
      },
      "execution_count": null,
      "outputs": [
        {
          "output_type": "stream",
          "name": "stdout",
          "text": [
            "Processing ./lookml-2.0.0.tar.gz\n",
            "  Preparing metadata (setup.py) ... \u001b[?25l\u001b[?25hdone\n",
            "Collecting lkml>=0.2.2 (from lookml==2.0.0)\n",
            "  Downloading lkml-1.3.5-py2.py3-none-any.whl (22 kB)\n",
            "Collecting PyGithub>=1.47 (from lookml==2.0.0)\n",
            "  Downloading PyGithub-2.3.0-py3-none-any.whl (354 kB)\n",
            "\u001b[2K     \u001b[90m━━━━━━━━━━━━━━━━━━━━━━━━━━━━━━━━━━━━━━━━\u001b[0m \u001b[32m354.4/354.4 kB\u001b[0m \u001b[31m7.6 MB/s\u001b[0m eta \u001b[36m0:00:00\u001b[0m\n",
            "\u001b[?25hCollecting pynacl>=1.4.0 (from PyGithub>=1.47->lookml==2.0.0)\n",
            "  Downloading PyNaCl-1.5.0-cp36-abi3-manylinux_2_17_x86_64.manylinux2014_x86_64.manylinux_2_24_x86_64.whl (856 kB)\n",
            "\u001b[2K     \u001b[90m━━━━━━━━━━━━━━━━━━━━━━━━━━━━━━━━━━━━━━━━\u001b[0m \u001b[32m856.7/856.7 kB\u001b[0m \u001b[31m11.7 MB/s\u001b[0m eta \u001b[36m0:00:00\u001b[0m\n",
            "\u001b[?25hRequirement already satisfied: requests>=2.14.0 in /usr/local/lib/python3.10/dist-packages (from PyGithub>=1.47->lookml==2.0.0) (2.31.0)\n",
            "Collecting pyjwt[crypto]>=2.4.0 (from PyGithub>=1.47->lookml==2.0.0)\n",
            "  Downloading PyJWT-2.8.0-py3-none-any.whl (22 kB)\n",
            "Requirement already satisfied: typing-extensions>=4.0.0 in /usr/local/lib/python3.10/dist-packages (from PyGithub>=1.47->lookml==2.0.0) (4.12.2)\n",
            "Requirement already satisfied: urllib3>=1.26.0 in /usr/local/lib/python3.10/dist-packages (from PyGithub>=1.47->lookml==2.0.0) (2.0.7)\n",
            "Collecting Deprecated (from PyGithub>=1.47->lookml==2.0.0)\n",
            "  Downloading Deprecated-1.2.14-py2.py3-none-any.whl (9.6 kB)\n",
            "Requirement already satisfied: cryptography>=3.4.0 in /usr/local/lib/python3.10/dist-packages (from pyjwt[crypto]>=2.4.0->PyGithub>=1.47->lookml==2.0.0) (42.0.8)\n",
            "Requirement already satisfied: cffi>=1.4.1 in /usr/local/lib/python3.10/dist-packages (from pynacl>=1.4.0->PyGithub>=1.47->lookml==2.0.0) (1.16.0)\n",
            "Requirement already satisfied: charset-normalizer<4,>=2 in /usr/local/lib/python3.10/dist-packages (from requests>=2.14.0->PyGithub>=1.47->lookml==2.0.0) (3.3.2)\n",
            "Requirement already satisfied: idna<4,>=2.5 in /usr/local/lib/python3.10/dist-packages (from requests>=2.14.0->PyGithub>=1.47->lookml==2.0.0) (3.7)\n",
            "Requirement already satisfied: certifi>=2017.4.17 in /usr/local/lib/python3.10/dist-packages (from requests>=2.14.0->PyGithub>=1.47->lookml==2.0.0) (2024.7.4)\n",
            "Requirement already satisfied: wrapt<2,>=1.10 in /usr/local/lib/python3.10/dist-packages (from Deprecated->PyGithub>=1.47->lookml==2.0.0) (1.14.1)\n",
            "Requirement already satisfied: pycparser in /usr/local/lib/python3.10/dist-packages (from cffi>=1.4.1->pynacl>=1.4.0->PyGithub>=1.47->lookml==2.0.0) (2.22)\n",
            "Building wheels for collected packages: lookml\n",
            "  Building wheel for lookml (setup.py) ... \u001b[?25l\u001b[?25hdone\n",
            "  Created wheel for lookml: filename=lookml-2.0.0-py3-none-any.whl size=19393 sha256=64d5bb652349121d75a61084c79c6ba39faeff8b9d048fb8ae394cc49759508b\n",
            "  Stored in directory: /root/.cache/pip/wheels/d2/2f/5c/9c93e9abc97b3d82729b8c0213a7fbc1caca55f8aee20cb3cb\n",
            "Successfully built lookml\n",
            "Installing collected packages: lkml, pyjwt, Deprecated, pynacl, PyGithub, lookml\n",
            "  Attempting uninstall: pyjwt\n",
            "    Found existing installation: PyJWT 2.3.0\n",
            "    Uninstalling PyJWT-2.3.0:\n",
            "      Successfully uninstalled PyJWT-2.3.0\n",
            "Successfully installed Deprecated-1.2.14 PyGithub-2.3.0 lkml-1.3.5 lookml-2.0.0 pyjwt-2.8.0 pynacl-1.5.0\n",
            "Processing ./lookml-2.0.0-py3-none-any.whl\n",
            "Requirement already satisfied: lkml>=0.2.2 in /usr/local/lib/python3.10/dist-packages (from lookml==2.0.0) (1.3.5)\n",
            "Requirement already satisfied: PyGithub>=1.47 in /usr/local/lib/python3.10/dist-packages (from lookml==2.0.0) (2.3.0)\n",
            "Requirement already satisfied: pynacl>=1.4.0 in /usr/local/lib/python3.10/dist-packages (from PyGithub>=1.47->lookml==2.0.0) (1.5.0)\n",
            "Requirement already satisfied: requests>=2.14.0 in /usr/local/lib/python3.10/dist-packages (from PyGithub>=1.47->lookml==2.0.0) (2.31.0)\n",
            "Requirement already satisfied: pyjwt[crypto]>=2.4.0 in /usr/local/lib/python3.10/dist-packages (from PyGithub>=1.47->lookml==2.0.0) (2.8.0)\n",
            "Requirement already satisfied: typing-extensions>=4.0.0 in /usr/local/lib/python3.10/dist-packages (from PyGithub>=1.47->lookml==2.0.0) (4.12.2)\n",
            "Requirement already satisfied: urllib3>=1.26.0 in /usr/local/lib/python3.10/dist-packages (from PyGithub>=1.47->lookml==2.0.0) (2.0.7)\n",
            "Requirement already satisfied: Deprecated in /usr/local/lib/python3.10/dist-packages (from PyGithub>=1.47->lookml==2.0.0) (1.2.14)\n",
            "Requirement already satisfied: cryptography>=3.4.0 in /usr/local/lib/python3.10/dist-packages (from pyjwt[crypto]>=2.4.0->PyGithub>=1.47->lookml==2.0.0) (42.0.8)\n",
            "Requirement already satisfied: cffi>=1.4.1 in /usr/local/lib/python3.10/dist-packages (from pynacl>=1.4.0->PyGithub>=1.47->lookml==2.0.0) (1.16.0)\n",
            "Requirement already satisfied: charset-normalizer<4,>=2 in /usr/local/lib/python3.10/dist-packages (from requests>=2.14.0->PyGithub>=1.47->lookml==2.0.0) (3.3.2)\n",
            "Requirement already satisfied: idna<4,>=2.5 in /usr/local/lib/python3.10/dist-packages (from requests>=2.14.0->PyGithub>=1.47->lookml==2.0.0) (3.7)\n",
            "Requirement already satisfied: certifi>=2017.4.17 in /usr/local/lib/python3.10/dist-packages (from requests>=2.14.0->PyGithub>=1.47->lookml==2.0.0) (2024.7.4)\n",
            "Requirement already satisfied: wrapt<2,>=1.10 in /usr/local/lib/python3.10/dist-packages (from Deprecated->PyGithub>=1.47->lookml==2.0.0) (1.14.1)\n",
            "Requirement already satisfied: pycparser in /usr/local/lib/python3.10/dist-packages (from cffi>=1.4.1->pynacl>=1.4.0->PyGithub>=1.47->lookml==2.0.0) (2.22)\n",
            "lookml is already installed with the same version as the provided wheel. Use --force-reinstall to force an installation of the wheel.\n",
            "Requirement already satisfied: lookml in /usr/local/lib/python3.10/dist-packages (2.0.0)\n",
            "Requirement already satisfied: lkml>=0.2.2 in /usr/local/lib/python3.10/dist-packages (from lookml) (1.3.5)\n",
            "Requirement already satisfied: PyGithub>=1.47 in /usr/local/lib/python3.10/dist-packages (from lookml) (2.3.0)\n",
            "Requirement already satisfied: pynacl>=1.4.0 in /usr/local/lib/python3.10/dist-packages (from PyGithub>=1.47->lookml) (1.5.0)\n",
            "Requirement already satisfied: requests>=2.14.0 in /usr/local/lib/python3.10/dist-packages (from PyGithub>=1.47->lookml) (2.31.0)\n",
            "Requirement already satisfied: pyjwt[crypto]>=2.4.0 in /usr/local/lib/python3.10/dist-packages (from PyGithub>=1.47->lookml) (2.8.0)\n",
            "Requirement already satisfied: typing-extensions>=4.0.0 in /usr/local/lib/python3.10/dist-packages (from PyGithub>=1.47->lookml) (4.12.2)\n",
            "Requirement already satisfied: urllib3>=1.26.0 in /usr/local/lib/python3.10/dist-packages (from PyGithub>=1.47->lookml) (2.0.7)\n",
            "Requirement already satisfied: Deprecated in /usr/local/lib/python3.10/dist-packages (from PyGithub>=1.47->lookml) (1.2.14)\n",
            "Requirement already satisfied: cryptography>=3.4.0 in /usr/local/lib/python3.10/dist-packages (from pyjwt[crypto]>=2.4.0->PyGithub>=1.47->lookml) (42.0.8)\n",
            "Requirement already satisfied: cffi>=1.4.1 in /usr/local/lib/python3.10/dist-packages (from pynacl>=1.4.0->PyGithub>=1.47->lookml) (1.16.0)\n",
            "Requirement already satisfied: charset-normalizer<4,>=2 in /usr/local/lib/python3.10/dist-packages (from requests>=2.14.0->PyGithub>=1.47->lookml) (3.3.2)\n",
            "Requirement already satisfied: idna<4,>=2.5 in /usr/local/lib/python3.10/dist-packages (from requests>=2.14.0->PyGithub>=1.47->lookml) (3.7)\n",
            "Requirement already satisfied: certifi>=2017.4.17 in /usr/local/lib/python3.10/dist-packages (from requests>=2.14.0->PyGithub>=1.47->lookml) (2024.7.4)\n",
            "Requirement already satisfied: wrapt<2,>=1.10 in /usr/local/lib/python3.10/dist-packages (from Deprecated->PyGithub>=1.47->lookml) (1.14.1)\n",
            "Requirement already satisfied: pycparser in /usr/local/lib/python3.10/dist-packages (from cffi>=1.4.1->pynacl>=1.4.0->PyGithub>=1.47->lookml) (2.22)\n"
          ]
        }
      ]
    },
    {
      "cell_type": "code",
      "source": [
        "!pip install looker_sdk\n",
        "import json\n",
        "import lookml\n",
        "import looker_sdk\n",
        "from looker_sdk import methods40, models40, init40\n",
        "import re"
      ],
      "metadata": {
        "id": "6MRsC2RAorq4",
        "colab": {
          "base_uri": "https://localhost:8080/"
        },
        "collapsed": true,
        "outputId": "a58c7b26-bdce-4355-bb04-934903621c49"
      },
      "execution_count": null,
      "outputs": [
        {
          "output_type": "stream",
          "name": "stdout",
          "text": [
            "Collecting looker_sdk\n",
            "  Downloading looker_sdk-24.12.0-py3-none-any.whl (226 kB)\n",
            "\u001b[?25l     \u001b[90m━━━━━━━━━━━━━━━━━━━━━━━━━━━━━━━━━━━━━━━━\u001b[0m \u001b[32m0.0/226.5 kB\u001b[0m \u001b[31m?\u001b[0m eta \u001b[36m-:--:--\u001b[0m\r\u001b[2K     \u001b[91m━━━━━━━━━━━━━━━━━━━━━━━━━━━━━━\u001b[0m\u001b[91m╸\u001b[0m\u001b[90m━━━━━━━━━\u001b[0m \u001b[32m174.1/226.5 kB\u001b[0m \u001b[31m5.3 MB/s\u001b[0m eta \u001b[36m0:00:01\u001b[0m\r\u001b[2K     \u001b[90m━━━━━━━━━━━━━━━━━━━━━━━━━━━━━━━━━━━━━━━━\u001b[0m \u001b[32m226.5/226.5 kB\u001b[0m \u001b[31m4.9 MB/s\u001b[0m eta \u001b[36m0:00:00\u001b[0m\n",
            "\u001b[?25hRequirement already satisfied: requests>=2.22 in /usr/local/lib/python3.10/dist-packages (from looker_sdk) (2.31.0)\n",
            "Requirement already satisfied: typing-extensions>=4.1.1 in /usr/local/lib/python3.10/dist-packages (from looker_sdk) (4.12.2)\n",
            "Requirement already satisfied: attrs>=20.1.0 in /usr/local/lib/python3.10/dist-packages (from looker_sdk) (23.2.0)\n",
            "Collecting cattrs>=1.3 (from looker_sdk)\n",
            "  Downloading cattrs-23.2.3-py3-none-any.whl (57 kB)\n",
            "\u001b[2K     \u001b[90m━━━━━━━━━━━━━━━━━━━━━━━━━━━━━━━━━━━━━━━━\u001b[0m \u001b[32m57.5/57.5 kB\u001b[0m \u001b[31m7.3 MB/s\u001b[0m eta \u001b[36m0:00:00\u001b[0m\n",
            "\u001b[?25hRequirement already satisfied: exceptiongroup>=1.1.1 in /usr/local/lib/python3.10/dist-packages (from cattrs>=1.3->looker_sdk) (1.2.2)\n",
            "Requirement already satisfied: charset-normalizer<4,>=2 in /usr/local/lib/python3.10/dist-packages (from requests>=2.22->looker_sdk) (3.3.2)\n",
            "Requirement already satisfied: idna<4,>=2.5 in /usr/local/lib/python3.10/dist-packages (from requests>=2.22->looker_sdk) (3.7)\n",
            "Requirement already satisfied: urllib3<3,>=1.21.1 in /usr/local/lib/python3.10/dist-packages (from requests>=2.22->looker_sdk) (2.0.7)\n",
            "Requirement already satisfied: certifi>=2017.4.17 in /usr/local/lib/python3.10/dist-packages (from requests>=2.22->looker_sdk) (2024.7.4)\n",
            "Installing collected packages: cattrs, looker_sdk\n",
            "Successfully installed cattrs-23.2.3 looker_sdk-24.12.0\n"
          ]
        }
      ]
    },
    {
      "cell_type": "code",
      "source": [
        "# Step 1 -- connect to the Looker API to pull a list of EAV fields\n",
        " # SDK = init31(\"api.ini\") Updated to new API 4.0\n",
        "sdk = looker_sdk.init40(\"api.ini\")\n",
        " # Modify the below to get our appropriate fields\n",
        "sql_for_fields = f\"\"\"\n",
        "    SELECT  user_id\n",
        "            ,field\n",
        "            ,value\n",
        "    FROM `tz-looker-core-argolis.ce_tech_talk.pylookml`\n",
        " \"\"\"\n",
        "query_config = models40.SqlQueryCreate(sql=sql_for_fields, connection_name=\"sample_bigquery_connection\")\n",
        "query = sdk.create_sql_query(query_config)\n",
        "response = json.loads(sdk.run_sql_query(slug=query.slug, result_format=\"json\"))\n",
        "print(response)"
      ],
      "metadata": {
        "id": "4Z595OdyVFIN",
        "colab": {
          "base_uri": "https://localhost:8080/"
        },
        "outputId": "35303545-1cc4-45fc-f4b3-49c9b3c5fccd"
      },
      "execution_count": null,
      "outputs": [
        {
          "output_type": "stream",
          "name": "stdout",
          "text": [
            "[{'user_id': 1, 'field': 'age', 'value': '20'}, {'user_id': 4, 'field': 'age', 'value': '25'}, {'user_id': 2, 'field': 'age', 'value': '30'}, {'user_id': 3, 'field': 'age', 'value': '40'}, {'user_id': 4, 'field': 'height', 'value': '170'}, {'user_id': 3, 'field': 'height', 'value': '175'}, {'user_id': 2, 'field': 'height', 'value': '180'}, {'user_id': 1, 'field': 'height', 'value': '183'}, {'user_id': 1, 'field': 'name', 'value': 'Bob'}, {'user_id': 3, 'field': 'name', 'value': 'Sam'}, {'user_id': 4, 'field': 'name', 'value': 'Jane'}, {'user_id': 2, 'field': 'name', 'value': 'John'}, {'user_id': 1, 'field': 'eye_color', 'value': 'blue'}, {'user_id': 2, 'field': 'eye_color', 'value': 'brown'}, {'user_id': 4, 'field': 'eye_color', 'value': 'brown'}, {'user_id': 3, 'field': 'eye_color', 'value': 'green'}]\n"
          ]
        }
      ]
    },
    {
      "cell_type": "code",
      "source": [
        " # Step 2 -- Create a pyLookML project connection to your github\n",
        " proj = lookml.Project(\n",
        "         # The github location of the repo\n",
        "          repo = ''\n",
        "         # git_url= '[yourgit]]'\n",
        "         # Instructions on creating an access token: https://help.github.com/en/github/authenticating-to-github/creating-a-personal-access-token-for-the-command-line\n",
        "         ,access_token=''\n",
        "         # Your Looker host\n",
        "         ,looker_host=''\n",
        "         # The name of the project on your looker host\n",
        "         ,looker_project_name=''\n",
        "         # You can deploy to branches other than master, a shared or personal branch if you would like to hop into looker, pull\n",
        "         # Remote changes and review before the code is committed to production\n",
        "         ,branch=''\n",
        "        #  ,outputPath =' .tmp'\n",
        " )\n",
        " # For simplicity of this example, all of the objects we're tracking will be contained in the model file, but can be split across the project based on your needs.\n",
        " modelFile = proj['/pylookml.model.lkml']"
      ],
      "metadata": {
        "id": "7JhbVfc_YZyu"
      },
      "execution_count": null,
      "outputs": []
    },
    {
      "cell_type": "code",
      "source": [
        "print (modelFile)"
      ],
      "metadata": {
        "colab": {
          "base_uri": "https://localhost:8080/"
        },
        "id": "RhWhLH9hUiGe",
        "outputId": "035fa300-f934-4406-da6f-511e376086a5"
      },
      "execution_count": null,
      "outputs": [
        {
          "output_type": "stream",
          "name": "stdout",
          "text": [
            "connection: \"sample_bigquery_connection\"\n",
            "\n",
            " explore: flat { \n",
            "   \n",
            "   }\n",
            "\n",
            "\n",
            " explore: _eav_flattener { \n",
            "  from: pylookml\n",
            "  hidden: yes \n",
            "   }\n",
            "\n",
            "\n",
            "view: pylookml {\n",
            "  sql_table_name: `tz-looker-core-argolis.ce_tech_talk.pylookml` ;;\n",
            "  \n",
            "  \n",
            "  dimension: field {   type: string\n",
            "    sql: ${TABLE}.field ;; }\n",
            "  dimension: user_id {   type: number\n",
            "    sql: ${TABLE}.user_id ;; }\n",
            "  dimension: value {   type: string\n",
            "    sql: ${TABLE}.value ;; }\n",
            "  \n",
            "  measure: age {   type: max\n",
            "    sql: CASE WHEN ${field} = 'age' THEN ${value} ELSE NULL END ;; }\n",
            "  measure: eye_color {   type: max\n",
            "    sql: CASE WHEN ${field} = 'eye_color' THEN ${value} ELSE NULL END ;; }\n",
            "  measure: height {   type: max\n",
            "    sql: CASE WHEN ${field} = 'height' THEN ${value} ELSE NULL END ;; }\n",
            "  measure: name {   type: max\n",
            "    sql: CASE WHEN ${field} = 'name' THEN ${value} ELSE NULL END ;; }\n",
            "  }\n",
            "\n",
            "\n",
            "view: flat {\n",
            "  derived_table: { explore_source: _eav_flattener { \n",
            "    column: user_id {     field: _eav_flattener.user_id }\n",
            "    column: eye_color {     field: _eav_flattener.eye_color }\n",
            "    column: age {     field: _eav_flattener.age }\n",
            "    column: height {     field: _eav_flattener.height }\n",
            "    column: name {     field: _eav_flattener.name } } }\n",
            "  \n",
            "  \n",
            "  dimension: age { \n",
            "    label: \"age\"\n",
            "    type: string\n",
            "    sql: ${TABLE}.age ;; }\n",
            "  dimension: eye_color { \n",
            "    label: \"eye_color\"\n",
            "    type: string\n",
            "    sql: ${TABLE}.eye_color ;; }\n",
            "  dimension: height { \n",
            "    label: \"height\"\n",
            "    type: string\n",
            "    sql: ${TABLE}.height ;; }\n",
            "  dimension: name { \n",
            "    label: \"name\"\n",
            "    type: string\n",
            "    sql: ${TABLE}.name ;; }\n",
            "  \n",
            "  \n",
            "  }\n",
            "\n"
          ]
        }
      ]
    },
    {
      "cell_type": "code",
      "source": [
        "# Step 3 -- Set up the objects we'll be manipulating\n",
        "eavSource = modelFile['views']['pylookml']\n",
        "# The user profile we'll call the \"flattening NDT\" since that's where our flattening logic lives\n",
        "flatteningNDT = modelFile['views']['flat']\n",
        "# Ensure there is a hidden explore to expose the eav_souce transformations to our user_profile NDT\n",
        "modelFile + f'''\n",
        "     explore: _eav_flattener {{\n",
        "         from: {eavSource.name}\n",
        "         hidden: yes\n",
        "     }}\n",
        " '''\n",
        "# Begin the derived table, will be added to as we loop through the fields\n",
        "drivedtableString = f'''\n",
        "     derived_table: {{\n",
        "         explore_source: _eav_flattener {{\n",
        "             column: user_id {{ field: _eav_flattener.user_id }}\n",
        " '''\n",
        "\n",
        "# Set up a pair of lists to track the unique org IDs and column names\n",
        "# Since the API query will be at a org/column level, this allows us to \"de-dupe\"\n",
        "orgIds, columns = [], []"
      ],
      "metadata": {
        "id": "CrF81h1FabRI"
      },
      "execution_count": null,
      "outputs": []
    },
    {
      "cell_type": "code",
      "source": [
        "# orgIDs are User IDs in our example\n",
        "# Step 4\n",
        "for column in response:\n",
        "     dimName = lookml.lookCase(column['field'])\n",
        "     orgIds.append(column['user_id'])\n",
        "     columns.append(dimName)\n",
        "     # Step 1) Add flattening measure to the EAV source table\n",
        "     eavSource + f'''\n",
        "             measure: {dimName} {{\n",
        "                 type: max\n",
        "                 sql: CASE WHEN ${{field}} = '{column['field']}' THEN ${{value}} ELSE NULL END;;\n",
        "             }}\n",
        "     '''\n",
        "\n",
        "     # Add to the NDT fields\n",
        "     flatteningNDT + f'''\n",
        "             dimension: {dimName} {{\n",
        "                 label: \"{dimName}\"\n",
        "                 type: string\n",
        "                 sql: ${{TABLE}}.{dimName} ;;\n",
        "             }}\n",
        "     '''\n",
        "     # If column['LOOKER_TYPE'] == \"measureA\":\n",
        "     if re.search('Measure.+', column['field']):\n",
        "         # Print({dimName}) @James, added cast to measure!\n",
        "         flatteningNDT + f'''\n",
        "             measure: {dimName}_total {{\n",
        "                 label: \"{dimName}_total\"\n",
        "                 type: sum\n",
        "                 sql: CAST(${{{dimName}}} AS NUMERIC) ;;\n",
        "             }}\n",
        "         '''"
      ],
      "metadata": {
        "id": "sGeGBNAJhkVL"
      },
      "execution_count": null,
      "outputs": []
    },
    {
      "cell_type": "code",
      "source": [
        "# Step 5\n",
        "for col in set(columns):\n",
        "    drivedtableString += f'''\n",
        "      column: {col} {{ field: _eav_flattener.{col} }}\n",
        "    '''\n",
        "drivedtableString += '}}'"
      ],
      "metadata": {
        "id": "NEAIR8lRqc5l"
      },
      "execution_count": null,
      "outputs": []
    },
    {
      "cell_type": "code",
      "source": [
        " # Step 6 -- Add all the final objects back to the model file\n",
        " # Finish by adding some of the strings we've been tracking:\n",
        " flatteningNDT + drivedtableString\n",
        " # Add access grants to the model\n",
        " modelFile"
      ],
      "metadata": {
        "id": "J85icAirlJ4v",
        "colab": {
          "base_uri": "https://localhost:8080/"
        },
        "outputId": "8bc4913a-164e-48c7-84a8-b0ac369151af"
      },
      "execution_count": null,
      "outputs": [
        {
          "output_type": "execute_result",
          "data": {
            "text/plain": [
              "<lookml.lookml.File at 0x782299bb6920>"
            ]
          },
          "metadata": {},
          "execution_count": 11
        }
      ]
    },
    {
      "cell_type": "code",
      "source": [
        " # Step 8 save to github\n",
        " proj.put(modelFile)"
      ],
      "metadata": {
        "id": "sZeb_58Jqj6L",
        "colab": {
          "base_uri": "https://localhost:8080/"
        },
        "outputId": "7bd800fd-f1a7-42de-ce09-e0d99f4e5c8e"
      },
      "execution_count": null,
      "outputs": [
        {
          "output_type": "execute_result",
          "data": {
            "text/plain": [
              "<lookml.lookml.githubProject at 0x782299bb5bd0>"
            ]
          },
          "metadata": {},
          "execution_count": 12
        }
      ]
    },
    {
      "cell_type": "code",
      "source": [
        "# Step 9 push from github to looker. You might need to refresh Looker before you can pull down the changes\n",
        "proj.deploy()"
      ],
      "metadata": {
        "id": "JZ4WIa_BqmgF"
      },
      "execution_count": null,
      "outputs": []
    }
  ]
}