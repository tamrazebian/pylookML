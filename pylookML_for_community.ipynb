{
  "nbformat": 4,
  "nbformat_minor": 0,
  "metadata": {
    "colab": {
      "provenance": []
    },
    "kernelspec": {
      "name": "python3",
      "display_name": "Python 3"
    },
    "language_info": {
      "name": "python"
    }
  },
  "cells": [
    {
      "cell_type": "code",
      "source": [
        "# Authenticate into your Looker environment with your Looker instance URL and API Client ID and Secret\n",
        "base_url = ''\n",
        "client_id=''\n",
        "client_secret=''\n",
        "\n",
        "contents = \"\"\"\n",
        "[Looker]\n",
        "# Base URL for API. Do not include /api/* in the url\n",
        "base_url = {}\n",
        "# API 3 client id\n",
        "client_id = {}\n",
        "# API 3 client secret\n",
        "client_secret = {}\n",
        "# Set to false if testing locally against self-signed certs. Otherwise leave True\n",
        "\"\"\".format(base_url,client_id,client_secret)\n",
        "\n",
        "with open (\"api.ini\", \"w\") as f:\n",
        "  f.write(contents)"
      ],
      "metadata": {
        "id": "HO7mdisWoqbr"
      },
      "execution_count": null,
      "outputs": []
    },
    {
      "cell_type": "code",
      "source": [
        "# You might need to manually download these 2 python library files and drag them into colab: https://pypi.org/project/lookml/2.0.0/#files\n",
        "!python3 -m pip install ./lookml-2.0.0.tar.gz\n",
        "!python3 -m pip install ./lookml-2.0.0-py3-none-any.whl\n",
        "!pip install lookml"
      ],
      "metadata": {
        "id": "t0dZjkrqP2Ab",
        "collapsed": true
      },
      "execution_count": null,
      "outputs": []
    },
    {
      "cell_type": "code",
      "source": [
        "!pip install looker_sdk\n",
        "import json\n",
        "import lookml\n",
        "import looker_sdk\n",
        "from looker_sdk import methods40, models40, init40\n",
        "import re"
      ],
      "metadata": {
        "id": "6MRsC2RAorq4",
        "collapsed": true
      },
      "execution_count": null,
      "outputs": []
    },
    {
      "cell_type": "code",
      "source": [
        "# Step 1 -- connect to the Looker API to pull a list of EAV fields\n",
        " # SDK = init31(\"api.ini\") Updated to new API 4.0\n",
        "sdk = looker_sdk.init40(\"api.ini\")\n",
        " # Modify the below to get our appropriate fields\n",
        "sql_for_fields = f\"\"\"\n",
        "    SELECT  user_id\n",
        "            ,field\n",
        "            ,value\n",
        "    FROM `tz-looker-core-argolis.ce_tech_talk.pylookml`\n",
        " \"\"\"\n",
        "query_config = models40.SqlQueryCreate(sql=sql_for_fields, connection_name=\"sample_bigquery_connection\")\n",
        "query = sdk.create_sql_query(query_config)\n",
        "response = json.loads(sdk.run_sql_query(slug=query.slug, result_format=\"json\"))\n",
        "print(response)"
      ],
      "metadata": {
        "id": "4Z595OdyVFIN"
      },
      "execution_count": null,
      "outputs": []
    },
    {
      "cell_type": "code",
      "source": [
        " # Step 2 -- Create a pyLookML project connection to your github\n",
        " proj = lookml.Project(\n",
        "         # The github location of the repo\n",
        "          repo = ''\n",
        "         # git_url= '[yourgit]]'\n",
        "         # Instructions on creating an access token: https://help.github.com/en/github/authenticating-to-github/creating-a-personal-access-token-for-the-command-line\n",
        "         ,access_token=''\n",
        "         # Your Looker host\n",
        "         ,looker_host=''\n",
        "         # The name of the project on your looker host\n",
        "         ,looker_project_name=''\n",
        "         # You can deploy to branches other than master, a shared or personal branch if you would like to hop into looker, pull\n",
        "         # Remote changes and review before the code is committed to production\n",
        "         ,branch=''\n",
        "        #  ,outputPath =' .tmp'\n",
        " )\n",
        " # For simplicity of this example, all of the objects we're tracking will be contained in the model file, but can be split across the project based on your needs.\n",
        " modelFile = proj['/pylookml.model.lkml']"
      ],
      "metadata": {
        "id": "7JhbVfc_YZyu"
      },
      "execution_count": null,
      "outputs": []
    },
    {
      "cell_type": "code",
      "source": [
        "print (modelFile)"
      ],
      "metadata": {
        "id": "RhWhLH9hUiGe"
      },
      "execution_count": null,
      "outputs": []
    },
    {
      "cell_type": "code",
      "source": [
        "# Step 3 -- Set up the objects we'll be manipulating\n",
        "eavSource = modelFile['views']['pylookml']\n",
        "# The user profile we'll call the \"flattening NDT\" since that's where our flattening logic lives\n",
        "flatteningNDT = modelFile['views']['flat']\n",
        "# Ensure there is a hidden explore to expose the eav_souce transformations to our user_profile NDT\n",
        "modelFile + f'''\n",
        "     explore: _eav_flattener {{\n",
        "         from: {eavSource.name}\n",
        "         hidden: yes\n",
        "     }}\n",
        " '''\n",
        "# Begin the derived table, will be added to as we loop through the fields\n",
        "drivedtableString = f'''\n",
        "     derived_table: {{\n",
        "         explore_source: _eav_flattener {{\n",
        "             column: user_id {{ field: _eav_flattener.user_id }}\n",
        " '''\n",
        "\n",
        "# Set up a pair of lists to track the unique org IDs and column names\n",
        "# Since the API query will be at a org/column level, this allows us to \"de-dupe\"\n",
        "orgIds, columns = [], []"
      ],
      "metadata": {
        "id": "CrF81h1FabRI"
      },
      "execution_count": null,
      "outputs": []
    },
    {
      "cell_type": "code",
      "source": [
        "# orgIDs are User IDs in our example\n",
        "# Step 4\n",
        "for column in response:\n",
        "     dimName = lookml.lookCase(column['field'])\n",
        "     orgIds.append(column['user_id'])\n",
        "     columns.append(dimName)\n",
        "     # Step 1) Add flattening measure to the EAV source table\n",
        "     eavSource + f'''\n",
        "             measure: {dimName} {{\n",
        "                 type: max\n",
        "                 sql: CASE WHEN ${{field}} = '{column['field']}' THEN ${{value}} ELSE NULL END;;\n",
        "             }}\n",
        "     '''\n",
        "\n",
        "     # Add to the NDT fields\n",
        "     flatteningNDT + f'''\n",
        "             dimension: {dimName} {{\n",
        "                 label: \"{dimName}\"\n",
        "                 type: string\n",
        "                 sql: ${{TABLE}}.{dimName} ;;\n",
        "             }}\n",
        "     '''\n",
        "     # If column['LOOKER_TYPE'] == \"measureA\":\n",
        "     if re.search('Measure.+', column['field']):\n",
        "         # Print({dimName}) @James, added cast to measure!\n",
        "         flatteningNDT + f'''\n",
        "             measure: {dimName}_total {{\n",
        "                 label: \"{dimName}_total\"\n",
        "                 type: sum\n",
        "                 sql: CAST(${{{dimName}}} AS NUMERIC) ;;\n",
        "             }}\n",
        "         '''"
      ],
      "metadata": {
        "id": "sGeGBNAJhkVL"
      },
      "execution_count": null,
      "outputs": []
    },
    {
      "cell_type": "code",
      "source": [
        "# Step 5\n",
        "for col in set(columns):\n",
        "    drivedtableString += f'''\n",
        "      column: {col} {{ field: _eav_flattener.{col} }}\n",
        "    '''\n",
        "drivedtableString += '}}'"
      ],
      "metadata": {
        "id": "NEAIR8lRqc5l"
      },
      "execution_count": null,
      "outputs": []
    },
    {
      "cell_type": "code",
      "source": [
        " # Step 6 -- Add all the final objects back to the model file\n",
        " # Finish by adding some of the strings we've been tracking:\n",
        " flatteningNDT + drivedtableString\n",
        " # Add access grants to the model\n",
        " modelFile"
      ],
      "metadata": {
        "id": "J85icAirlJ4v"
      },
      "execution_count": null,
      "outputs": []
    },
    {
      "cell_type": "code",
      "source": [
        " # Step 8 save to github\n",
        " proj.put(modelFile)"
      ],
      "metadata": {
        "id": "sZeb_58Jqj6L"
      },
      "execution_count": null,
      "outputs": []
    },
    {
      "cell_type": "code",
      "source": [
        "# Step 9 push from github to looker. You might need to refresh Looker before you can pull down the changes\n",
        "proj.deploy()"
      ],
      "metadata": {
        "id": "JZ4WIa_BqmgF"
      },
      "execution_count": null,
      "outputs": []
    }
  ]
}
